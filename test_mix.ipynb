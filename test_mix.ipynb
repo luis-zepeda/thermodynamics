{
 "cells": [
  {
   "cell_type": "code",
   "execution_count": 24,
   "metadata": {},
   "outputs": [
    {
     "data": {
      "text/plain": [
       "array([1, 2, 3])"
      ]
     },
     "execution_count": 24,
     "metadata": {},
     "output_type": "execute_result"
    }
   ],
   "source": [
    "import numpy as np\n",
    "A=np.array([1,2,3])\n",
    "kij=np.array([[0,0.00457,0.01141],[0.00457,0,0.00157],[0.01141,0.00157,0]])\n",
    "compositions=np.array([0.25,0.25,0.5])\n",
    "A"
   ]
  },
  {
   "cell_type": "code",
   "execution_count": 27,
   "metadata": {},
   "outputs": [
    {
     "data": {
      "text/plain": [
       "[1.0,\n",
       " 1.40775060639305,\n",
       " 1.7122881078545162,\n",
       " 1.40775060639305,\n",
       " 2.0,\n",
       " 2.4456440438870084,\n",
       " 1.7122881078545162,\n",
       " 2.4456440438870084,\n",
       " 3.0]"
      ]
     },
     "execution_count": 27,
     "metadata": {},
     "output_type": "execute_result"
    }
   ],
   "source": [
    "Aij=[np.sqrt(A[i]*A[j])*(1-kij[i][j]) for i in range(0,len(A)) for j in range(0,len(A))]\n",
    "Aij"
   ]
  },
  {
   "cell_type": "code",
   "execution_count": null,
   "metadata": {},
   "outputs": [],
   "source": [
    "A = [np.sum(compositions[i]*compositions[j]*A[i+j])]"
   ]
  }
 ],
 "metadata": {
  "kernelspec": {
   "display_name": "Python 3",
   "language": "python",
   "name": "python3"
  },
  "language_info": {
   "codemirror_mode": {
    "name": "ipython",
    "version": 3
   },
   "file_extension": ".py",
   "mimetype": "text/x-python",
   "name": "python",
   "nbconvert_exporter": "python",
   "pygments_lexer": "ipython3",
   "version": "3.7.6"
  }
 },
 "nbformat": 4,
 "nbformat_minor": 4
}
