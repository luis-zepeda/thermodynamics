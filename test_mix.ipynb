{
 "cells": [
  {
   "cell_type": "code",
   "execution_count": 129,
   "metadata": {},
   "outputs": [],
   "source": [
    "import numpy as np\n",
    "Ai=np.array([0.001963075,0.028716115,0.079749333])\n",
    "kij=np.array([[0,0.2,0.3],[0.2,0,0.4],[0.3,0.4,0]])\n",
    "compositions=np.array([0.25,0.25,0.5])\n",
    "shape=kij.shape\n",
    "alfa=np.array([0.039446,0.215632,0.482204])"
   ]
  },
  {
   "cell_type": "code",
   "execution_count": 130,
   "metadata": {},
   "outputs": [
    {
     "data": {
      "text/plain": [
       "array([[0.03197346, 0.02557876, 0.02238142],\n",
       "       [0.02557876, 0.03197346, 0.01918407],\n",
       "       [0.02238142, 0.01918407, 0.03197346]])"
      ]
     },
     "execution_count": 130,
     "metadata": {},
     "output_type": "execute_result"
    }
   ],
   "source": [
    "np.sqrt(A*A)*(1-kij)"
   ]
  },
  {
   "cell_type": "code",
   "execution_count": 131,
   "metadata": {},
   "outputs": [
    {
     "data": {
      "text/plain": [
       "array([[0.00196307, 0.0060065 , 0.00875851],\n",
       "       [0.0060065 , 0.02871612, 0.02871294],\n",
       "       [0.00875851, 0.02871294, 0.07974933]])"
      ]
     },
     "execution_count": 131,
     "metadata": {},
     "output_type": "execute_result"
    }
   ],
   "source": [
    "Aij=np.array([np.sqrt(Ai[i]*Ai[j])*(1-kij[i,j]) for i in range(0,len(Ai)) for j in range(0,len(Ai))]).reshape(shape)\n",
    "Aij"
   ]
  },
  {
   "cell_type": "code",
   "execution_count": 132,
   "metadata": {},
   "outputs": [
    {
     "data": {
      "text/plain": [
       "0.03197345550398059"
      ]
     },
     "execution_count": 132,
     "metadata": {},
     "output_type": "execute_result"
    }
   ],
   "source": [
    "A = np.sum([np.sum(compositions[i]*compositions[j]*Aij[i,j]) for i in range(0,len(Ai)) for j in range(0,len(Ai))])\n",
    "A"
   ]
  },
  {
   "cell_type": "code",
   "execution_count": 150,
   "metadata": {},
   "outputs": [],
   "source": [
    "def alfa_fun(t,tc,acentric):\n",
    "    m=0.37464+1.54226*acentric-0.26992*acentric**2\n",
    "    reduced_temperature=t/tc\n",
    "    return (1+m*(1-np.sqrt(reduced_temperature)))**2\n",
    "from scipy.misc import derivative\n",
    "T=298\n",
    "tc=np.array([126.2,304.21,373.53])\n",
    "acentric=np.array([0.0377,0.2236,0.0942])"
   ]
  },
  {
   "cell_type": "code",
   "execution_count": 133,
   "metadata": {},
   "outputs": [
    {
     "data": {
      "text/plain": [
       "array([0.01274329, 0.04607424, 0.09848505])"
      ]
     },
     "execution_count": 133,
     "metadata": {},
     "output_type": "execute_result"
    }
   ],
   "source": [
    "A_i = np.array([(compositions[j]*Aij[:,j]) for j in range(0,len(Ai))])\n",
    "A_i =np.array([2* np.sum(A_i[:,i]) for i in range(0,len(Ai))])\n",
    "A_i"
   ]
  },
  {
   "cell_type": "code",
   "execution_count": 152,
   "metadata": {},
   "outputs": [
    {
     "name": "stdout",
     "output_type": "stream",
     "text": [
      "696 µs ± 24.3 µs per loop (mean ± std. dev. of 7 runs, 1000 loops each)\n"
     ]
    }
   ],
   "source": [
    "A_derivate=np.sum([0.5*np.sum(compositions[i]*compositions[j]*Aij[i,j]*((T/alfa[i])*derivative(alfa_fun,T,args=(tc[i],acentric[i]))+(T/alfa[j])*derivative(alfa_fun,T,args=(tc[j],acentric[j])))) for i in range(0,len(Ai)) for j in range(0,len(Ai))])"
   ]
  },
  {
   "cell_type": "code",
   "execution_count": 153,
   "metadata": {},
   "outputs": [
    {
     "data": {
      "text/plain": [
       "-0.0643107583690761"
      ]
     },
     "execution_count": 153,
     "metadata": {},
     "output_type": "execute_result"
    }
   ],
   "source": [
    "A_derivate"
   ]
  }
 ],
 "metadata": {
  "kernelspec": {
   "display_name": "Python 3",
   "language": "python",
   "name": "python3"
  },
  "language_info": {
   "codemirror_mode": {
    "name": "ipython",
    "version": 3
   },
   "file_extension": ".py",
   "mimetype": "text/x-python",
   "name": "python",
   "nbconvert_exporter": "python",
   "pygments_lexer": "ipython3",
   "version": "3.7.6"
  }
 },
 "nbformat": 4,
 "nbformat_minor": 4
}
