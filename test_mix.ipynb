{
 "cells": [
  {
   "cell_type": "code",
   "execution_count": 1,
   "metadata": {},
   "outputs": [],
   "source": [
    "import numpy as np\n",
    "t=298\n",
    "p=77\n",
    "\n",
    "tc = np.array([126.2,304.21,373.53])\n",
    "pc=np.array([34,73.83,89.63])\n",
    "acentric=np.array([0.03772,0.22362,0.09417])\n",
    "kij=np.array([[0,0.2,0.3],[0.2,0,0.4],[0.3,0.4,0]])\n",
    "liq_compositions=np.array([0.25,0.25,0.5])\n",
    "vap_compositions=np.array([0.2592,0.2490,0.4918])\n",
    "shape=kij.shape\n",
    "\n",
    "#A_liq,B_liq,A_i_liq,Aij_liq,dAdT_liq"
   ]
  },
  {
   "cell_type": "code",
   "execution_count": 2,
   "metadata": {},
   "outputs": [
    {
     "data": {
      "text/plain": [
       "(array([24.97194433, 15.15418562, 21.40579744]),\n",
       " array([25.58836915, 15.04681148, 21.2152507 ]))"
      ]
     },
     "execution_count": 2,
     "metadata": {},
     "output_type": "execute_result"
    }
   ],
   "source": [
    "from thermodynamics.mix.general.equilibrium import solve_eos\n",
    "solve_eos(t,p,tc,pc,acentric,liq_compositions,vap_compositions,kij,method='pr',alfa_function='mathias',mixing_rule='van_der_waals',diagram=False,properties=False,heat_capacity=None)"
   ]
  },
  {
   "cell_type": "code",
   "execution_count": null,
   "metadata": {},
   "outputs": [],
   "source": []
  }
 ],
 "metadata": {
  "kernelspec": {
   "display_name": "Python 3",
   "language": "python",
   "name": "python3"
  },
  "language_info": {
   "codemirror_mode": {
    "name": "ipython",
    "version": 3
   },
   "file_extension": ".py",
   "mimetype": "text/x-python",
   "name": "python",
   "nbconvert_exporter": "python",
   "pygments_lexer": "ipython3",
   "version": "3.7.6"
  }
 },
 "nbformat": 4,
 "nbformat_minor": 4
}
