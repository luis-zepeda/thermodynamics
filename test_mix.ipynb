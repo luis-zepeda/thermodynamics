{
 "cells": [
  {
   "cell_type": "code",
   "execution_count": 1,
   "metadata": {},
   "outputs": [],
   "source": [
    "import numpy as np\n",
    "from thermodynamics.mix.general.equilibrium import solve_eos, bubble_temperature,bubble_pressure, dew_pressure, dew_temperature\n",
    "t=350\n",
    "p=13.253461386909118\n",
    "\n",
    "tc = np.array([513.92,407.85,507.6])\n",
    "pc=np.array([61.48,36.4,30.25])\n",
    "acentric=np.array([0.649,0.186,0.297])\n",
    "kij=np.array([[0,0.2,0.3],[0.2,0,0.4],[0.3,0.4,0]])\n",
    "liq_compositions=np.array([0.25,0.25,0.5])\n",
    "vap_compositions=np.array([0.25,0.25,0.5])\n",
    "shape=kij.shape\n",
    "\n",
    "#A_liq,B_liq,A_i_liq,Aij_liq,dAdT_liq"
   ]
  },
  {
   "cell_type": "code",
   "execution_count": 2,
   "metadata": {},
   "outputs": [
    {
     "data": {
      "text/plain": [
       "(array([0.37952987, 2.90322199, 0.14573689]),\n",
       " array([0.37952987, 2.90322199, 0.14573689]))"
      ]
     },
     "execution_count": 2,
     "metadata": {},
     "output_type": "execute_result"
    }
   ],
   "source": [
    "\n",
    "solve_eos(t,p,tc,pc,acentric,liq_compositions,vap_compositions,kij,method='pr',alfa_function='mathias',mixing_rule='van_der_waals',diagram=False,properties=False,heat_capacity=None)"
   ]
  },
  {
   "cell_type": "code",
   "execution_count": 3,
   "metadata": {},
   "outputs": [
    {
     "data": {
      "text/plain": [
       "(350,\n",
       " 16.10732877448054,\n",
       " array([0.25, 0.25, 0.5 ]),\n",
       " array([0.10763587, 0.81045785, 0.08190628]))"
      ]
     },
     "execution_count": 3,
     "metadata": {},
     "output_type": "execute_result"
    }
   ],
   "source": [
    "t=350\n",
    "p=10\n",
    "bubble_pressure(t,p,tc,pc,acentric,liq_compositions,vap_compositions,kij,method='pr',alfa_function='mathias',mixing_rule='van_der_waals')"
   ]
  },
  {
   "cell_type": "code",
   "execution_count": 4,
   "metadata": {},
   "outputs": [
    {
     "data": {
      "text/plain": [
       "(320.6648363529506,\n",
       " 10,\n",
       " array([0.25, 0.25, 0.5 ]),\n",
       " array([0.06223563, 0.89014601, 0.04761836]))"
      ]
     },
     "execution_count": 4,
     "metadata": {},
     "output_type": "execute_result"
    }
   ],
   "source": [
    "t=350\n",
    "p=10\n",
    "bubble_temperature(t,p,tc,pc,acentric,liq_compositions,vap_compositions,kij,method='pr',alfa_function='mathias',mixing_rule='van_der_waals')"
   ]
  },
  {
   "cell_type": "code",
   "execution_count": 5,
   "metadata": {},
   "outputs": [
    {
     "data": {
      "text/plain": [
       "(350,\n",
       " 2.1075112710078248,\n",
       " array([0.02803598, 0.00250251, 0.96946151]),\n",
       " array([0.25, 0.25, 0.5 ]))"
      ]
     },
     "execution_count": 5,
     "metadata": {},
     "output_type": "execute_result"
    }
   ],
   "source": [
    "t=350\n",
    "p=10\n",
    "dew_pressure(t,p,tc,pc,acentric,liq_compositions,vap_compositions,kij,method='pr',alfa_function='mathias',mixing_rule='van_der_waals')"
   ]
  },
  {
   "cell_type": "code",
   "execution_count": 6,
   "metadata": {},
   "outputs": [
    {
     "data": {
      "text/plain": [
       "(405.5006579421661,\n",
       " 10,\n",
       " array([0.06078743, 0.01356209, 0.92565048]),\n",
       " array([0.25, 0.25, 0.5 ]))"
      ]
     },
     "execution_count": 6,
     "metadata": {},
     "output_type": "execute_result"
    }
   ],
   "source": [
    "t=350\n",
    "p=10\n",
    "dew_temperature(t,p,tc,pc,acentric,liq_compositions,vap_compositions,kij,method='pr',alfa_function='mathias',mixing_rule='van_der_waals')"
   ]
  }
 ],
 "metadata": {
  "kernelspec": {
   "display_name": "Python 3",
   "language": "python",
   "name": "python3"
  },
  "language_info": {
   "codemirror_mode": {
    "name": "ipython",
    "version": 3
   },
   "file_extension": ".py",
   "mimetype": "text/x-python",
   "name": "python",
   "nbconvert_exporter": "python",
   "pygments_lexer": "ipython3",
   "version": "3.7.6"
  }
 },
 "nbformat": 4,
 "nbformat_minor": 4
}
